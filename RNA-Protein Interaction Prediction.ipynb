{
 "cells": [
  {
   "cell_type": "markdown",
   "metadata": {},
   "source": [
    "# RNA-Protein Interaction Prediction\n",
    "\n",
    "Notebook for creation of model for prediction of RNA interacting amino acids in protein chains."
   ]
  },
  {
   "cell_type": "markdown",
   "metadata": {},
   "source": [
    "Various python imports and uses:\n",
    "\n",
    "- **Pandas**: organizing data and storing data in tabular format\n",
    "- **Numpy**: reshaping data for inputs to models\n",
    "- **Matplotlib**: visualizing data\n",
    "- **requests**: gathering data from RCSB.org website\n",
    "- **Keras w/ tensorflow backend**: autoencoder for reducing the size of the data\n",
    "- **Scikit-Learn**: Random Forest Classifier model and various metrics\n",
    "- **Pymol**: used for mining data from RCSB PDB structure files of RNA-protein complexes\n",
    "- **tqdm**: shows progress of various processes"
   ]
  },
  {
   "cell_type": "code",
   "execution_count": 1,
   "metadata": {},
   "outputs": [
    {
     "name": "stderr",
     "output_type": "stream",
     "text": [
      "Using TensorFlow backend.\n",
      "E:\\Anaconda\\envs\\tf2-pymol\\lib\\site-packages\\tqdm\\std.py:648: FutureWarning: The Panel class is removed from pandas. Accessing it from the top-level namespace will also be removed in the next version\n",
      "  from pandas import Panel\n"
     ]
    }
   ],
   "source": [
    "import xml.etree.ElementTree as ET\n",
    "import os\n",
    "import pickle\n",
    "\n",
    "import pandas as pd\n",
    "import numpy as np\n",
    "import matplotlib.pyplot as plt\n",
    "\n",
    "import requests\n",
    "\n",
    "from keras.layers import Input, Dense, Reshape, Flatten, Concatenate\n",
    "from keras.models import Model\n",
    "\n",
    "from sklearn.ensemble import RandomForestClassifier\n",
    "from sklearn.metrics import roc_curve, roc_auc_score, precision_recall_curve, average_precision_score, accuracy_score\n",
    "\n",
    "import pymol2\n",
    "\n",
    "from tqdm import tqdm, trange\n",
    "\n",
    "tqdm.pandas()"
   ]
  },
  {
   "cell_type": "markdown",
   "metadata": {},
   "source": [
    "### Code to be applied to individual rows of Pandas DataFrame\n",
    "\n",
    "Uses PyMol to figure out residues (individual amino acids) which are in contact/interacting with RNA. This is defined as having a distance of less than 5.0 Angstroms."
   ]
  },
  {
   "cell_type": "code",
   "execution_count": 2,
   "metadata": {},
   "outputs": [],
   "source": [
    "def pymolMine(x):\n",
    "    p = pymol2.PyMOL()\n",
    "    p.start()\n",
    "    try:\n",
    "        p.cmd.cd('./Data')\n",
    "    except:\n",
    "        pass\n",
    "    if os.path.exists('./Data/{}.cif'.format(x['pdb'])):\n",
    "        p.cmd.load('./{}.cif'.format(x['pdb']))\n",
    "    else:\n",
    "        p.cmd.fetch(x['pdb'])\n",
    "    try:\n",
    "        space = {'residues': [], 'resAll': []}\n",
    "        seq = ''.join(p.cmd.get_fastastr('polymer.protein and chain {}'.format(x['chain'])).split('\\n')[1:])\n",
    "        if len(seq) <= 1000:\n",
    "            p.cmd.iterate(\n",
    "                '(polymer.protein and chain {}) within 5.0 of (polymer.nucleic and ({}))'.format(\n",
    "                    x['chain'], \n",
    "                    ' or '.join(['chain {}'.format(c) for c in x['rnaChain']])\n",
    "                ),\n",
    "                'residues.append(resi)',\n",
    "                space=space\n",
    "            )\n",
    "            p.cmd.iterate(\n",
    "                'polymer.protein and chain {} and name CA'.format(\n",
    "                    x['chain']\n",
    "                ),\n",
    "                'resAll.append(resi)',\n",
    "                space=space\n",
    "            )\n",
    "            aRes = space['resAll']\n",
    "            if len(seq) == len(aRes):\n",
    "                pos = set(space['residues'])\n",
    "                interseq = ['1' if aRes[i] in pos else '0' for i in range(len(aRes))]\n",
    "                p.cmd.delete(x['pdb'])\n",
    "                p.stop()\n",
    "                return ''.join(interseq), seq\n",
    "    except:\n",
    "        pass\n",
    "    p.cmd.delete(x['pdb'])\n",
    "    p.stop()\n",
    "    return None, None"
   ]
  },
  {
   "cell_type": "markdown",
   "metadata": {},
   "source": [
    "### Main part of data mining code\n",
    "\n",
    "A list of entities/structure file information is downloaded from the RCSB.org database in XML format. This is then \n",
    "converted into a Pandas DataFrame, removing entities which do not have at least one protein and one RNA object and have a\n",
    "resolution greater than 2.5 Angstoms (half of the interaction definition). The function above is then applied to get both \n",
    "the sequence of amino acids in FASTA format (single-letter code of amino acid). The duplicate data is then dropped based on \n",
    "the combination of sequence and mined interaction and then split into three samples: training, validation, and testing \n",
    "independent based on PDB IDs so that there is no overlap within structure files."
   ]
  },
  {
   "cell_type": "code",
   "execution_count": 3,
   "metadata": {},
   "outputs": [],
   "source": [
    "def getData(maxSeqLength, maxResolution):\n",
    "    # Getting the entity information\n",
    "    pdbs = []\n",
    "    for c in tqdm(ET.fromstring(requests.get('https://www.rcsb.org/pdb/rest/getEntityInfo').text)):\n",
    "        dataPDB = {\n",
    "            'pdb': c.attrib['structureId'].lower(),\n",
    "            'resolution': c.attrib['resolution'] if 'resolution' in c.attrib else None,\n",
    "            'proteinChain': [],\n",
    "            'rnaChain': []\n",
    "        }\n",
    "        prt = False\n",
    "        na = False\n",
    "        \n",
    "        # Checking requirements for protein and RNA\n",
    "        for d in c:\n",
    "            if d.tag == 'Method':\n",
    "                dataPDB['method']  = d.attrib['name']\n",
    "            elif d.tag == 'Entity':\n",
    "                if d.attrib['type'] == 'protein':\n",
    "                    prt = True\n",
    "                elif d.attrib['type'] == 'rna':\n",
    "                    na = True\n",
    "                    \n",
    "        # Gather relevant chain information for proteins and rna\n",
    "        if na and prt:\n",
    "            for d in c:\n",
    "                if d.tag == 'Entity' and d.attrib['type'] == 'protein':\n",
    "                    for e in d:\n",
    "                        dataPDB['proteinChain'].append(e.attrib['id'])\n",
    "                elif d.tag == 'Entity' and d.attrib['type'] == 'rna':\n",
    "                    for e in d:\n",
    "                        dataPDB['rnaChain'].append(e.attrib['id'])\n",
    "            pdbs.append(dataPDB)\n",
    "    \n",
    "    # Put all of the relevant information into an Pandas DataFrame\n",
    "    pdbsAll = pd.DataFrame([\n",
    "        {\n",
    "            'pdb': c['pdb'],\n",
    "            'resolution': c['resolution'],\n",
    "            'method': c['method'],\n",
    "            'chain': d,\n",
    "            'rnaChain': c['rnaChain']\n",
    "        } for c in pdbs for d in c['proteinChain']\n",
    "    ])\n",
    "    \n",
    "    # Change the resolution from string to float, get resolutions of <= 2.5 Angstroms,\n",
    "    # get sequence and interaction information, drop any non-interacting chains,\n",
    "    # and clean format of DataFrame\n",
    "    pdbsAll['resolution'] = pdbsAll['resolution'].astype(float)\n",
    "    pdbsAll = pdbsAll.loc[pdbsAll['resolution'] <= maxResolution].reset_index()\n",
    "    out = pdbsAll.progress_apply(pymolMine, axis=1)\n",
    "    pdbsAll['interaction'] = out.apply(lambda x: x[0])\n",
    "    pdbsAll['sequence'] = out.apply(lambda x: x[1])\n",
    "    pdbsAll = pdbsAll.loc[pdbsAll['interaction'].apply(lambda x: x != None and x.count('1') > 0),:]\n",
    "    pdbsAll = pdbsAll.drop(columns=[\"index\", \"rnaChain\"]).drop_duplicates().reset_index()\n",
    "    pdbsAll = pdbsAll.drop_duplicates(subset=['interaction', 'sequence'])\n",
    "    \n",
    "    # Split data into three samples: training, validation, and testing\n",
    "    testSamp = pdbsAll.loc[pdbsAll[\"pdb\"].isin(np.random.choice(pdbsAll[\"pdb\"].unique(), 100))]\n",
    "    trainSamp = pdbsAll.loc[~pdbsAll.index.isin(testSamp.index)]\n",
    "    valSamp = trainSamp.loc[trainSamp[\"pdb\"].isin(np.random.choice(pdbsAll[\"pdb\"].unique(), 100))]\n",
    "    trainSamp = trainSamp.loc[~trainSamp.index.isin(valSamp.index)]\n",
    "    return trainSamp, valSamp, testSamp"
   ]
  },
  {
   "cell_type": "markdown",
   "metadata": {},
   "source": [
    "Using the above function and then printing out the sizes of training, validation and testing samples."
   ]
  },
  {
   "cell_type": "code",
   "execution_count": 4,
   "metadata": {},
   "outputs": [
    {
     "name": "stdout",
     "output_type": "stream",
     "text": [
      "(7553, 8) (748, 8) (653, 8)\n"
     ]
    }
   ],
   "source": [
    "if os.path.exists('./train_30.csv'):\n",
    "    trainSamp = pd.read_csv(\"train_30.csv\")\n",
    "    valSamp = pd.read_csv(\"valid_30.csv\")\n",
    "    testSamp = pd.read_csv(\"test_30.csv\")\n",
    "else:\n",
    "    trainSamp, valSamp, testSamp = getData(1000, 3.0)\n",
    "    trainSamp.to_csv(\"train_30.csv\")\n",
    "    valSamp.to_csv(\"valid_30.csv\")\n",
    "    testSamp.to_csv(\"test_30.csv\")\n",
    "print(trainSamp.shape, valSamp.shape, testSamp.shape)"
   ]
  },
  {
   "cell_type": "markdown",
   "metadata": {},
   "source": [
    "## Machine Learning Model Complete Class\n",
    "\n",
    "The following class contains both of the models for prediction (autoencoder and Random Forest Model). The following is a\n",
    "description of the different properties and functions:\n",
    "\n",
    "#### Properties\n",
    "\n",
    "- \\_encoder: Autoencoder location\n",
    "- \\_randomForest: Random Forest Classification model location\n",
    "- maxSeqLength: maximum sequence length for the Autoencoder\n",
    "- ngrams: subsequence of protein chainm to look at up and down from tested residue\n",
    "  * Length of subsequence is equal to: $2 * ngrams + 1$\n",
    "- \\_encode_weights: Autoencoder model weights for pickling\n",
    "\n",
    "#### Functions\n",
    "\n",
    "- \\_genEncodeData: encode data in preparation for Autoencoder model\n",
    "- \\_genData: generate data for training Random Forest Classifier from Pandas DataFrame sample\n",
    "- \\_genDataPredict: generate data for testing Random Forest Classifier from Pandas DataFrame sample\n",
    "- \\_genDatPredictSeq: generate data for testing individual sequence from user input for Random Forest Classifier\n",
    "\n",
    "\n",
    "- fit: fit Autoencoder to sample data\n",
    "- fitRandomForest: fit Random Forest Classifier to sample data while using the Autoencoder to vectorize sequence\n",
    "- score: score Random Forest Classifier to input Pandas DataFrame\n",
    "- predict: predict interactions using AutoEncoder and Random Forest Classifier for Pandas DataFrame\n",
    "- predict_proba: predict probabilities of interaction using AutoEncoder and Random Forest Classifier for Pandas DataFrame\n",
    "- predict_input: predict probabilities of interaction using AutoEncoder and Random Forest Classifier for user inputted \n",
    "  dictionary"
   ]
  },
  {
   "cell_type": "code",
   "execution_count": 5,
   "metadata": {},
   "outputs": [],
   "source": [
    "class AutoEncodeRandomForest:\n",
    "    def __init__(self, maxSeqLength):\n",
    "        self._encoder = None\n",
    "        self._randomForest = None\n",
    "        self.maxSeqLength = maxSeqLength\n",
    "        self.ngrams = 0\n",
    "        self._encode_weights = None\n",
    "        \n",
    "    def _genEncodeData(self, x):\n",
    "        temp = np.zeros((1,self.maxSeqLength+2,28))\n",
    "        for i,v in enumerate('_'+x+'_'):\n",
    "            temp[0,i,ord(v)-65 if v!= '_' else 26] = 1.0\n",
    "        temp[0,i+1:,27] = 1.0\n",
    "        return temp\n",
    "\n",
    "    def _genData(self, df, M, encoder):\n",
    "        out = []\n",
    "        yout = []\n",
    "        for c in df.index:\n",
    "            seq = df.loc[c, 'sequence']\n",
    "            inter = df.loc[c, 'interaction']\n",
    "            seqEnc = encoder.predict(self._genEncodeData(seq))[0]\n",
    "            for d in range(len(seq)):\n",
    "                ind1 = d - M if d > M else 0\n",
    "                ind2 = d + M + 1 if d + M < len(seq) else len(seq)\n",
    "                temp = np.zeros((2*M+1,27))\n",
    "                for i,v in enumerate((ind1 - d + M) * '_' + seq[ind1:ind2] + (d + M + 1 - ind2) * '_'):\n",
    "                    temp[i,ord(v)-65 if v != '_' else 26] = 1.0\n",
    "                out.append(np.concatenate([temp.flatten(), seqEnc], axis=0))\n",
    "            yout += [float(i) for i in inter]\n",
    "        return np.array(out), np.array(yout)\n",
    "    \n",
    "    def _genDataPredict(self, df, M, encoder):\n",
    "        out = []\n",
    "        for c in df.index:\n",
    "            seq = df.loc[c, 'sequence']\n",
    "            seqEnc = encoder.predict(self._genEncodeData(seq))[0]\n",
    "            for d in range(len(seq)):\n",
    "                ind1 = d - M if d > M else 0\n",
    "                ind2 = d + M + 1 if d + M < len(seq) else len(seq)\n",
    "                temp = np.zeros((2*M+1,27))\n",
    "                for i,v in enumerate((ind1 - d + M) * '_' + seq[ind1:ind2] + (d + M + 1 - ind2) * '_'):\n",
    "                    temp[i,ord(v)-65 if v != '_' else 26] = 1.0\n",
    "                out.append(np.concatenate([temp.flatten(), seqEnc], axis=0))\n",
    "        return np.array(out)\n",
    "    \n",
    "    def _genDataPredictSeq(self, seq, M, encoder):\n",
    "        out = []\n",
    "        seqEnc = encoder.predict(self._genEncodeData(seq))[0]\n",
    "        for d in range(len(seq)):\n",
    "            ind1 = d - M if d > M else 0\n",
    "            ind2 = d + M + 1 if d + M < len(seq) else len(seq)\n",
    "            temp = np.zeros((2*M+1,27))\n",
    "            for i,v in enumerate((ind1 - d + M) * '_' + seq[ind1:ind2] + (d + M + 1 - ind2) * '_'):\n",
    "                temp[i,ord(v)-65 if v != '_' else 26] = 1.0\n",
    "            out.append(np.concatenate([temp.flatten(), seqEnc], axis=0))\n",
    "        return np.array(out)\n",
    "\n",
    "    def fit(self, samp, layer_size):\n",
    "        X = np.concatenate(samp['sequence'].apply(self._genEncodeData).values, axis=0)\n",
    "        input_layer = Input(shape=(X.shape[1],X.shape[2]))\n",
    "        flatten_layer = Flatten()(input_layer)\n",
    "        encoding_layer = Dense(layer_size, activation='linear')(flatten_layer)\n",
    "        out_layer = Dense(X.shape[1]*X.shape[2], activation='softmax')(encoding_layer)\n",
    "        reshape_layer = Reshape((X.shape[1],X.shape[2]))(out_layer)\n",
    "\n",
    "        model = Model(inputs=[input_layer], outputs=[reshape_layer])\n",
    "        self._encoder = Model(inputs=[input_layer], outputs=[encoding_layer])\n",
    "\n",
    "        model.compile(optimizer='nadam', loss='categorical_crossentropy', metrics=['accuracy'])\n",
    "        model.fit(X, X, epochs=25, batch_size=1024, shuffle=True, verbose=True)\n",
    "        self._encode_weights = self._encoder.get_weights()\n",
    "        \n",
    "    def fitRandomForest(self, samp, ngrams):\n",
    "        self.ngrams = ngrams\n",
    "        x, y = self._genData(samp, ngrams, self._encoder)\n",
    "        self._randomForest = RandomForestClassifier(\n",
    "            n_estimators=16,\n",
    "            n_jobs=-1\n",
    "        )\n",
    "        self._randomForest.fit(x, y)\n",
    "        \n",
    "    def score(self, samp):        \n",
    "        x, y = self._genData(samp, self.ngrams, self._encoder)\n",
    "        return (\n",
    "            self._randomForest.score(x, y),\n",
    "            roc_auc_score(y, self._randomForest.predict_proba(x)[:,1]),\n",
    "            average_precision_score(y, self._randomForest.predict_proba(x)[:,1]),\n",
    "            x, y, self._randomForest.predict_proba(x)[:,1]\n",
    "        )\n",
    "    \n",
    "    def predict(self, samp):\n",
    "        x = self._genDataPredict(samp, self.ngrams, self._encoder)\n",
    "        return self._randomForest.predict(x)\n",
    "    \n",
    "    def predict_proba(self, samp):\n",
    "        x = self._genDataPredict(samp, self.ngrams, self._encoder)\n",
    "        return self._randomForest.predict_proba(x)\n",
    "    \n",
    "    def predict_input(self, doc_dict):\n",
    "        self._encoder.set_weights(self._encode_weights)\n",
    "        x = self._genDataPredictSeq(doc_dict['sequence'], self.ngrams, self._encoder)\n",
    "        res = self._randomForest.predict_proba(x)[:,1]\n",
    "        out = []\n",
    "        for s in range(len(doc_dict['sequence'])):\n",
    "            out.append({\n",
    "                'resabbrev': doc_dict['sequence'][s],\n",
    "                'interaction': res[s]\n",
    "            })\n",
    "        return out"
   ]
  },
  {
   "cell_type": "markdown",
   "metadata": {},
   "source": [
    "### Create AutoEncodeRandomForest Object and train the Autoencoder"
   ]
  },
  {
   "cell_type": "code",
   "execution_count": 6,
   "metadata": {
    "scrolled": true
   },
   "outputs": [
    {
     "name": "stdout",
     "output_type": "stream",
     "text": [
      "Epoch 1/25\n",
      "7553/7553 [==============================] - ETA: 16s - loss: 3.3331 - accuracy: 0.032 - ETA: 13s - loss: 3.2566 - accuracy: 0.088 - ETA: 10s - loss: 2.5462 - accuracy: 0.332 - ETA: 8s - loss: 2.0923 - accuracy: 0.456 - ETA: 5s - loss: 1.8119 - accuracy: 0.52 - ETA: 3s - loss: 1.6228 - accuracy: 0.57 - ETA: 0s - loss: 1.4828 - accuracy: 0.61 - 18s 2ms/step - loss: 1.4398 - accuracy: 0.6255\n",
      "Epoch 2/25\n",
      "7553/7553 [==============================] - ETA: 14s - loss: 0.6516 - accuracy: 0.823 - ETA: 12s - loss: 0.6392 - accuracy: 0.827 - ETA: 10s - loss: 0.6341 - accuracy: 0.828 - ETA: 8s - loss: 0.6299 - accuracy: 0.828 - ETA: 5s - loss: 0.6242 - accuracy: 0.82 - ETA: 3s - loss: 0.6198 - accuracy: 0.83 - ETA: 0s - loss: 0.6117 - accuracy: 0.83 - 18s 2ms/step - loss: 0.6122 - accuracy: 0.8330\n",
      "Epoch 3/25\n",
      "7553/7553 [==============================] - ETA: 15s - loss: 0.5833 - accuracy: 0.835 - ETA: 12s - loss: 0.5660 - accuracy: 0.840 - ETA: 10s - loss: 0.5541 - accuracy: 0.843 - ETA: 8s - loss: 0.5513 - accuracy: 0.843 - ETA: 5s - loss: 0.5454 - accuracy: 0.84 - ETA: 3s - loss: 0.5435 - accuracy: 0.84 - ETA: 0s - loss: 0.5387 - accuracy: 0.84 - 18s 2ms/step - loss: 0.5364 - accuracy: 0.8473\n",
      "Epoch 4/25\n",
      "7553/7553 [==============================] - ETA: 15s - loss: 0.4855 - accuracy: 0.864 - ETA: 13s - loss: 0.4927 - accuracy: 0.860 - ETA: 10s - loss: 0.4856 - accuracy: 0.862 - ETA: 8s - loss: 0.4825 - accuracy: 0.861 - ETA: 5s - loss: 0.4780 - accuracy: 0.86 - ETA: 3s - loss: 0.4744 - accuracy: 0.86 - ETA: 0s - loss: 0.4709 - accuracy: 0.86 - 18s 2ms/step - loss: 0.4693 - accuracy: 0.8651\n",
      "Epoch 5/25\n",
      "7553/7553 [==============================] - ETA: 14s - loss: 0.4672 - accuracy: 0.866 - ETA: 12s - loss: 0.4433 - accuracy: 0.871 - ETA: 10s - loss: 0.4366 - accuracy: 0.873 - ETA: 7s - loss: 0.4285 - accuracy: 0.875 - ETA: 5s - loss: 0.4202 - accuracy: 0.87 - ETA: 3s - loss: 0.4145 - accuracy: 0.87 - ETA: 0s - loss: 0.4111 - accuracy: 0.88 - 18s 2ms/step - loss: 0.4107 - accuracy: 0.8811\n",
      "Epoch 6/25\n",
      "7553/7553 [==============================] - ETA: 16s - loss: 0.3873 - accuracy: 0.888 - ETA: 13s - loss: 0.3885 - accuracy: 0.887 - ETA: 10s - loss: 0.3826 - accuracy: 0.889 - ETA: 8s - loss: 0.3744 - accuracy: 0.891 - ETA: 5s - loss: 0.3734 - accuracy: 0.89 - ETA: 3s - loss: 0.3702 - accuracy: 0.89 - ETA: 0s - loss: 0.3668 - accuracy: 0.89 - 18s 2ms/step - loss: 0.3645 - accuracy: 0.8948\n",
      "Epoch 7/25\n",
      "7553/7553 [==============================] - ETA: 14s - loss: 0.3504 - accuracy: 0.899 - ETA: 12s - loss: 0.3392 - accuracy: 0.901 - ETA: 10s - loss: 0.3363 - accuracy: 0.902 - ETA: 8s - loss: 0.3298 - accuracy: 0.904 - ETA: 5s - loss: 0.3327 - accuracy: 0.90 - ETA: 3s - loss: 0.3298 - accuracy: 0.90 - ETA: 0s - loss: 0.3254 - accuracy: 0.90 - 18s 2ms/step - loss: 0.3246 - accuracy: 0.9061\n",
      "Epoch 8/25\n",
      "7553/7553 [==============================] - ETA: 14s - loss: 0.3106 - accuracy: 0.910 - ETA: 12s - loss: 0.3038 - accuracy: 0.912 - ETA: 10s - loss: 0.2980 - accuracy: 0.914 - ETA: 8s - loss: 0.2988 - accuracy: 0.913 - ETA: 5s - loss: 0.2968 - accuracy: 0.91 - ETA: 3s - loss: 0.2936 - accuracy: 0.91 - ETA: 0s - loss: 0.2919 - accuracy: 0.91 - 18s 2ms/step - loss: 0.2904 - accuracy: 0.9163\n",
      "Epoch 9/25\n",
      "7553/7553 [==============================] - ETA: 14s - loss: 0.2725 - accuracy: 0.921 - ETA: 12s - loss: 0.2705 - accuracy: 0.922 - ETA: 10s - loss: 0.2680 - accuracy: 0.922 - ETA: 8s - loss: 0.2632 - accuracy: 0.924 - ETA: 5s - loss: 0.2647 - accuracy: 0.92 - ETA: 3s - loss: 0.2642 - accuracy: 0.92 - ETA: 0s - loss: 0.2616 - accuracy: 0.92 - 18s 2ms/step - loss: 0.2603 - accuracy: 0.9249\n",
      "Epoch 10/25\n",
      "7553/7553 [==============================] - ETA: 14s - loss: 0.2432 - accuracy: 0.929 - ETA: 12s - loss: 0.2464 - accuracy: 0.928 - ETA: 10s - loss: 0.2414 - accuracy: 0.930 - ETA: 7s - loss: 0.2429 - accuracy: 0.929 - ETA: 5s - loss: 0.2388 - accuracy: 0.93 - ETA: 3s - loss: 0.2404 - accuracy: 0.93 - ETA: 0s - loss: 0.2385 - accuracy: 0.93 - 18s 2ms/step - loss: 0.2367 - accuracy: 0.9319\n",
      "Epoch 11/25\n",
      "7553/7553 [==============================] - ETA: 14s - loss: 0.2134 - accuracy: 0.938 - ETA: 12s - loss: 0.2171 - accuracy: 0.937 - ETA: 10s - loss: 0.2200 - accuracy: 0.936 - ETA: 7s - loss: 0.2146 - accuracy: 0.938 - ETA: 5s - loss: 0.2117 - accuracy: 0.93 - ETA: 3s - loss: 0.2115 - accuracy: 0.93 - ETA: 0s - loss: 0.2111 - accuracy: 0.93 - 18s 2ms/step - loss: 0.2103 - accuracy: 0.9399\n",
      "Epoch 12/25\n",
      "7553/7553 [==============================] - ETA: 14s - loss: 0.2021 - accuracy: 0.942 - ETA: 12s - loss: 0.1996 - accuracy: 0.943 - ETA: 10s - loss: 0.1954 - accuracy: 0.944 - ETA: 7s - loss: 0.1956 - accuracy: 0.944 - ETA: 5s - loss: 0.1945 - accuracy: 0.94 - ETA: 3s - loss: 0.1944 - accuracy: 0.94 - ETA: 0s - loss: 0.1920 - accuracy: 0.94 - 17s 2ms/step - loss: 0.1916 - accuracy: 0.9456\n",
      "Epoch 13/25\n",
      "7553/7553 [==============================] - ETA: 14s - loss: 0.1803 - accuracy: 0.948 - ETA: 12s - loss: 0.1795 - accuracy: 0.949 - ETA: 10s - loss: 0.1796 - accuracy: 0.949 - ETA: 7s - loss: 0.1795 - accuracy: 0.949 - ETA: 5s - loss: 0.1789 - accuracy: 0.94 - ETA: 3s - loss: 0.1777 - accuracy: 0.94 - ETA: 0s - loss: 0.1774 - accuracy: 0.94 - 18s 2ms/step - loss: 0.1765 - accuracy: 0.9501\n",
      "Epoch 14/25\n",
      "7553/7553 [==============================] - ETA: 14s - loss: 0.1603 - accuracy: 0.954 - ETA: 12s - loss: 0.1565 - accuracy: 0.956 - ETA: 10s - loss: 0.1606 - accuracy: 0.954 - ETA: 7s - loss: 0.1638 - accuracy: 0.953 - ETA: 5s - loss: 0.1631 - accuracy: 0.95 - ETA: 3s - loss: 0.1628 - accuracy: 0.95 - ETA: 0s - loss: 0.1614 - accuracy: 0.95 - 17s 2ms/step - loss: 0.1614 - accuracy: 0.9547\n",
      "Epoch 15/25\n",
      "7553/7553 [==============================] - ETA: 14s - loss: 0.1658 - accuracy: 0.953 - ETA: 12s - loss: 0.1612 - accuracy: 0.954 - ETA: 10s - loss: 0.1592 - accuracy: 0.955 - ETA: 7s - loss: 0.1588 - accuracy: 0.955 - ETA: 5s - loss: 0.1560 - accuracy: 0.95 - ETA: 3s - loss: 0.1536 - accuracy: 0.95 - ETA: 0s - loss: 0.1513 - accuracy: 0.95 - 18s 2ms/step - loss: 0.1509 - accuracy: 0.9580\n",
      "Epoch 16/25\n",
      "7553/7553 [==============================] - ETA: 14s - loss: 0.1390 - accuracy: 0.961 - ETA: 12s - loss: 0.1410 - accuracy: 0.960 - ETA: 10s - loss: 0.1434 - accuracy: 0.960 - ETA: 7s - loss: 0.1434 - accuracy: 0.960 - ETA: 5s - loss: 0.1431 - accuracy: 0.96 - ETA: 3s - loss: 0.1419 - accuracy: 0.96 - ETA: 0s - loss: 0.1392 - accuracy: 0.96 - 17s 2ms/step - loss: 0.1377 - accuracy: 0.9619\n",
      "Epoch 17/25\n",
      "7553/7553 [==============================] - ETA: 14s - loss: 0.1349 - accuracy: 0.962 - ETA: 12s - loss: 0.1286 - accuracy: 0.964 - ETA: 10s - loss: 0.1286 - accuracy: 0.964 - ETA: 7s - loss: 0.1265 - accuracy: 0.965 - ETA: 5s - loss: 0.1272 - accuracy: 0.96 - ETA: 3s - loss: 0.1277 - accuracy: 0.96 - ETA: 0s - loss: 0.1283 - accuracy: 0.96 - 18s 2ms/step - loss: 0.1277 - accuracy: 0.9649\n",
      "Epoch 18/25\n",
      "7553/7553 [==============================] - ETA: 14s - loss: 0.1167 - accuracy: 0.968 - ETA: 12s - loss: 0.1238 - accuracy: 0.966 - ETA: 10s - loss: 0.1231 - accuracy: 0.966 - ETA: 7s - loss: 0.1213 - accuracy: 0.966 - ETA: 5s - loss: 0.1190 - accuracy: 0.96 - ETA: 3s - loss: 0.1175 - accuracy: 0.96 - ETA: 0s - loss: 0.1192 - accuracy: 0.96 - 18s 2ms/step - loss: 0.1186 - accuracy: 0.9676\n",
      "Epoch 19/25\n",
      "7553/7553 [==============================] - ETA: 14s - loss: 0.1095 - accuracy: 0.970 - ETA: 12s - loss: 0.1102 - accuracy: 0.970 - ETA: 10s - loss: 0.1097 - accuracy: 0.970 - ETA: 7s - loss: 0.1134 - accuracy: 0.969 - ETA: 5s - loss: 0.1127 - accuracy: 0.96 - ETA: 3s - loss: 0.1126 - accuracy: 0.96 - ETA: 0s - loss: 0.1120 - accuracy: 0.96 - 18s 2ms/step - loss: 0.1112 - accuracy: 0.9698\n",
      "Epoch 20/25\n",
      "7553/7553 [==============================] - ETA: 14s - loss: 0.1125 - accuracy: 0.969 - ETA: 12s - loss: 0.1066 - accuracy: 0.971 - ETA: 10s - loss: 0.1082 - accuracy: 0.970 - ETA: 7s - loss: 0.1061 - accuracy: 0.971 - ETA: 5s - loss: 0.1054 - accuracy: 0.97 - ETA: 3s - loss: 0.1046 - accuracy: 0.97 - ETA: 0s - loss: 0.1044 - accuracy: 0.97 - 18s 2ms/step - loss: 0.1045 - accuracy: 0.9717\n",
      "Epoch 21/25\n"
     ]
    },
    {
     "name": "stdout",
     "output_type": "stream",
     "text": [
      "7553/7553 [==============================] - ETA: 14s - loss: 0.1013 - accuracy: 0.972 - ETA: 12s - loss: 0.1003 - accuracy: 0.972 - ETA: 10s - loss: 0.1010 - accuracy: 0.972 - ETA: 7s - loss: 0.1006 - accuracy: 0.973 - ETA: 5s - loss: 0.0987 - accuracy: 0.97 - ETA: 3s - loss: 0.0981 - accuracy: 0.97 - ETA: 0s - loss: 0.0977 - accuracy: 0.97 - 18s 2ms/step - loss: 0.0978 - accuracy: 0.9737\n",
      "Epoch 22/25\n",
      "7553/7553 [==============================] - ETA: 15s - loss: 0.0945 - accuracy: 0.974 - ETA: 12s - loss: 0.0940 - accuracy: 0.974 - ETA: 10s - loss: 0.0902 - accuracy: 0.975 - ETA: 8s - loss: 0.0931 - accuracy: 0.975 - ETA: 5s - loss: 0.0916 - accuracy: 0.97 - ETA: 3s - loss: 0.0911 - accuracy: 0.97 - ETA: 0s - loss: 0.0920 - accuracy: 0.97 - 18s 2ms/step - loss: 0.0921 - accuracy: 0.9754\n",
      "Epoch 23/25\n",
      "7553/7553 [==============================] - ETA: 14s - loss: 0.0865 - accuracy: 0.976 - ETA: 12s - loss: 0.0929 - accuracy: 0.974 - ETA: 10s - loss: 0.0924 - accuracy: 0.975 - ETA: 7s - loss: 0.0903 - accuracy: 0.975 - ETA: 5s - loss: 0.0891 - accuracy: 0.97 - ETA: 3s - loss: 0.0890 - accuracy: 0.97 - ETA: 0s - loss: 0.0881 - accuracy: 0.97 - 18s 2ms/step - loss: 0.0876 - accuracy: 0.9766\n",
      "Epoch 24/25\n",
      "7553/7553 [==============================] - ETA: 14s - loss: 0.0835 - accuracy: 0.977 - ETA: 12s - loss: 0.0845 - accuracy: 0.977 - ETA: 10s - loss: 0.0836 - accuracy: 0.977 - ETA: 7s - loss: 0.0842 - accuracy: 0.977 - ETA: 5s - loss: 0.0837 - accuracy: 0.97 - ETA: 3s - loss: 0.0841 - accuracy: 0.97 - ETA: 0s - loss: 0.0832 - accuracy: 0.97 - 18s 2ms/step - loss: 0.0823 - accuracy: 0.9782\n",
      "Epoch 25/25\n",
      "7553/7553 [==============================] - ETA: 14s - loss: 0.0865 - accuracy: 0.977 - ETA: 12s - loss: 0.0815 - accuracy: 0.978 - ETA: 10s - loss: 0.0809 - accuracy: 0.978 - ETA: 7s - loss: 0.0791 - accuracy: 0.979 - ETA: 5s - loss: 0.0781 - accuracy: 0.97 - ETA: 3s - loss: 0.0784 - accuracy: 0.97 - ETA: 0s - loss: 0.0781 - accuracy: 0.97 - 18s 2ms/step - loss: 0.0778 - accuracy: 0.9795\n"
     ]
    }
   ],
   "source": [
    "m = AutoEncodeRandomForest(1000)\n",
    "m.fit(trainSamp, 200)"
   ]
  },
  {
   "cell_type": "markdown",
   "metadata": {},
   "source": [
    "### Test Random Forest Classifier at different subsequence sizes"
   ]
  },
  {
   "cell_type": "code",
   "execution_count": 7,
   "metadata": {},
   "outputs": [
    {
     "name": "stdout",
     "output_type": "stream",
     "text": [
      "0 0.8032233899871262 0.8532424943042831 0.7236366427495908\n",
      "0 0.7857467956717711 0.8161801813542617 0.6647942494099299\n",
      "\n",
      "1 0.9698324907782457 0.9965495173127508 0.991889902321399\n",
      "1 0.8931963999941273 0.9469468033604608 0.8993369140853281\n",
      "\n",
      "2 0.9771037337077358 0.9975834868964274 0.9942757494861103\n",
      "2 0.8980854781166038 0.9501329147115813 0.9041805942546381\n",
      "\n",
      "3 0.977276431334377 0.9976181212049152 0.9943559899391397\n",
      "3 0.898687436684236 0.9489554916079712 0.9025954973096826\n",
      "\n",
      "4 0.9773452113415242 0.9976388258538573 0.9944006633528495\n",
      "4 0.8997812394473726 0.950629550591595 0.9057468864083718\n",
      "\n",
      "5 0.9773429685152041 0.9976501705562854 0.9944253253345019\n",
      "5 0.8982763430282921 0.9525014618505507 0.9074365697192829\n",
      "\n",
      "6 0.9773878250416044 0.9976538217678463 0.9944387071041545\n",
      "6 0.8985039127306896 0.9472449098016162 0.9022738360878162\n",
      "\n",
      "7 0.9773556778643508 0.9976628372588536 0.9944562297639195\n",
      "7 0.9000014681916284 0.9509537146129953 0.9053773879962441\n",
      "\n",
      "8 0.9773549302555775 0.9976731129912595 0.994475666817543\n",
      "8 0.8982763430282921 0.9523049605983904 0.9078285889856411\n",
      "\n",
      "9 0.9774364196118714 0.9976740560291978 0.9944807290006473\n",
      "9 0.89807079620032 0.951663731671577 0.9060264828219152\n",
      "\n",
      "10 0.9773908154766978 0.9976714326906349 0.9944718579827682\n",
      "10 0.8980414323677527 0.9510768965261598 0.9052809386536603\n",
      "\n"
     ]
    }
   ],
   "source": [
    "for i in range(11):\n",
    "    m.fitRandomForest(trainSamp, i)\n",
    "    acc, auroc, auprc, xTest, yTest, yPred = m.score(trainSamp)\n",
    "    print(i, acc, auroc, auprc)\n",
    "    acc, auroc, auprc, xTest, yTest, yPred = m.score(valSamp)\n",
    "    print(i, acc, auroc, auprc)\n",
    "    print()"
   ]
  },
  {
   "cell_type": "markdown",
   "metadata": {},
   "source": [
    "### Train final model based on previous analysis and visualize results"
   ]
  },
  {
   "cell_type": "code",
   "execution_count": 18,
   "metadata": {
    "scrolled": false
   },
   "outputs": [
    {
     "name": "stdout",
     "output_type": "stream",
     "text": [
      "0.9304170161873043 0.9617520348317842 0.9276959143865426\n"
     ]
    },
    {
     "data": {
      "image/png": "[encoded data removed]",
      "text/plain": [
       "<Figure size 720x720 with 1 Axes>"
      ]
     },
     "metadata": {
      "needs_background": "light"
     },
     "output_type": "display_data"
    },
    {
     "data": {
      "image/png": "[encoded data removed]",
      "text/plain": [
       "<Figure size 720x720 with 1 Axes>"
      ]
     },
     "metadata": {
      "needs_background": "light"
     },
     "output_type": "display_data"
    },
    {
     "data": {
      "image/png": "[encoded data removed]",
      "text/plain": [
       "<Figure size 720x720 with 1 Axes>"
      ]
     },
     "metadata": {
      "needs_background": "light"
     },
     "output_type": "display_data"
    }
   ],
   "source": [
    "m.fitRandomForest(trainSamp, 7)\n",
    "acc, auroc, auprc, xTest, yTest, yPred = m.score(testSamp)\n",
    "print(acc, auroc, auprc)\n",
    "\n",
    "fpr, tpr, _ = roc_curve(yTest, yPred)\n",
    "plt.figure(figsize=(10,10))\n",
    "plt.plot(fpr, tpr)\n",
    "plt.xlabel('False Positive Rate')\n",
    "plt.ylabel('True Positive Rate')\n",
    "plt.xlim([0.0, 1.0])\n",
    "plt.ylim([0.0, 1.0])\n",
    "plt.show()\n",
    "\n",
    "precision, recall, _ = precision_recall_curve(yTest, yPred)\n",
    "plt.figure(figsize=(10,10))\n",
    "plt.plot(recall, precision)\n",
    "plt.xlabel('Recall')\n",
    "plt.ylabel('Precision')\n",
    "plt.ylim([0.0, 1.0])\n",
    "plt.xlim([0.0, 1.0])\n",
    "plt.show()\n",
    "\n",
    "plt.figure(figsize=(10,10))\n",
    "plt.violinplot(yPred[yTest==0.])\n",
    "plt.violinplot(yPred[yTest==1.])\n",
    "plt.xticks([])\n",
    "plt.show()"
   ]
  },
  {
   "cell_type": "markdown",
   "metadata": {},
   "source": [
    "### Pickle AutoEncodeRandomForest object"
   ]
  },
  {
   "cell_type": "code",
   "execution_count": 19,
   "metadata": {},
   "outputs": [],
   "source": [
    "with open('model_rnaprotein.pkl', 'wb') as fp:\n",
    "    pickle.dump(m, fp)"
   ]
  },
  {
   "cell_type": "code",
   "execution_count": null,
   "metadata": {},
   "outputs": [],
   "source": []
  }
 ],
 "metadata": {
  "kernelspec": {
   "display_name": "tf2-pymol",
   "language": "python",
   "name": "tf2-pymol"
  },
  "language_info": {
   "codemirror_mode": {
    "name": "ipython",
    "version": 3
   },
   "file_extension": ".py",
   "mimetype": "text/x-python",
   "name": "python",
   "nbconvert_exporter": "python",
   "pygments_lexer": "ipython3",
   "version": "3.7.4"
  }
 },
 "nbformat": 4,
 "nbformat_minor": 2
}
